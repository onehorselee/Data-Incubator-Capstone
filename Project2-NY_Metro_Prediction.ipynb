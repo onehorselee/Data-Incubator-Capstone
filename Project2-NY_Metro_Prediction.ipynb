{
 "cells": [
  {
   "cell_type": "markdown",
   "metadata": {},
   "source": [
    "## Project: New York Subway System -- Exploration and Modeling\n",
    "### Author : Qian Li\n",
    "#### Analysis ongoing..."
   ]
  },
  {
   "cell_type": "code",
   "execution_count": 4,
   "metadata": {
    "collapsed": true
   },
   "outputs": [],
   "source": [
    "import pandas as pd\n",
    "import matplotlib.pylab as plt\n",
    "from matplotlib.pylab import rcParams\n",
    "rcParams['figure.figsize'] = 15,6\n",
    "import datetime\n",
    "import numpy as np"
   ]
  },
  {
   "cell_type": "code",
   "execution_count": 3,
   "metadata": {
    "collapsed": true
   },
   "outputs": [],
   "source": [
    "%matplotlib inline"
   ]
  },
  {
   "cell_type": "markdown",
   "metadata": {
    "collapsed": true
   },
   "source": [
    "# Data Analysis 1\n",
    "\n",
    "What is the total number of entries & exits across the subway system for August 1, 2013?"
   ]
  },
  {
   "cell_type": "code",
   "execution_count": 5,
   "metadata": {},
   "outputs": [
    {
     "name": "stdout",
     "output_type": "stream",
     "text": [
      "2013-08-01, total entries: 23073433547.0\n",
      "2013-08-01, total exits: 14621682708.0\n"
     ]
    }
   ],
   "source": [
    "# load the data of the week 2013-08-03\n",
    "link = 'http://web.mta.info/developers/data/nyct/turnstile/turnstile_' + '130803' +'.txt'\n",
    "df = pd.read_csv(link, header = None)\n",
    "\n",
    "# parse the data of the selected day, 2013-01-03\n",
    "df_130801 = df[df[3] =='08-01-13'] \n",
    "\n",
    "# count the entries and exits\n",
    "# because this is a cumulative data, so I will choose the last time point of a day\n",
    "entries_total = df_130801[41].sum()\n",
    "exits_total = df_130801[42].sum() \n",
    "\n",
    "print(\"2013-08-01, total entries:\", entries_total)\n",
    "print(\"2013-08-01, total exits:\", exits_total)"
   ]
  },
  {
   "cell_type": "markdown",
   "metadata": {},
   "source": [
    "#  Data Analysis 2\n",
    "\n",
    "Let’s define the busy-ness as sum of entry & exit count.\n",
    "\n",
    "What station was the busiest on August 1, 2013?\n",
    "\n",
    "What turnstile was the busiest on that date?"
   ]
  },
  {
   "cell_type": "code",
   "execution_count": 6,
   "metadata": {},
   "outputs": [
    {
     "name": "stdout",
     "output_type": "stream",
     "text": [
      "2013-08-01, the busiest station: R275\n",
      "2013-08-01, the busiest turnstile: ('R275', '00-00-00')\n"
     ]
    }
   ],
   "source": [
    "stations = df_130801.groupby(df_130801[1]).sum() # group by stations\n",
    "stations[43] = stations[41] + stations[42] # sum the entries & exits\n",
    "\n",
    "devices = df_130801.groupby([1,2]).sum() # group by stations and devices\n",
    "devices[43] = devices[41] + devices[42] # sum the entries & exits\n",
    "\n",
    "print('2013-08-01, the busiest station:', stations[43].idxmax())\n",
    "print('2013-08-01, the busiest turnstile:', devices[43].idxmax())\n"
   ]
  },
  {
   "cell_type": "markdown",
   "metadata": {},
   "source": [
    "#  Data Analysis 3\n",
    "*What were the busiest and least-busy stations in the system over all of July 2013*\n"
   ]
  },
  {
   "cell_type": "code",
   "execution_count": 7,
   "metadata": {},
   "outputs": [
    {
     "name": "stdout",
     "output_type": "stream",
     "text": [
      "In July 2013, the busiest station: R275\n",
      "In July 2013, the least-busy station: R014\n"
     ]
    }
   ],
   "source": [
    "# load the data\n",
    "dates_indexs = ['130706', '130713', '130720', '130727', '130803']\n",
    "\n",
    "links = []\n",
    "for i in range(len(dates_indexs)):\n",
    "    links.append('http://web.mta.info/developers/data/nyct/turnstile/turnstile_'+ dates_indexs[i] +'.txt')\n",
    "\n",
    "mydfs = {}\n",
    "for i in range(len(links)):   \n",
    "    mydfs[dates_indexs[i]] = pd.read_csv(links[i], header = None, usecols = list(range(43)))\n",
    "\n",
    "\n",
    "# mydfs contains the data of August 2013, which should not be included.\n",
    "# Only select the data of July 2013, and store it in a single dataframe \n",
    "\n",
    "df_201307 = pd.DataFrame() \n",
    "for key in mydfs:\n",
    "    df = mydfs[key]\n",
    "    df = df[df[3].str.contains('07-')]\n",
    "    df_201307 = df_201307.append(df)\n",
    "\n",
    "\n",
    "stations_201307 = df_201307.groupby(df_201307[1]).sum() # group by stations\n",
    "stations_201307[43] = stations_201307[41] + stations_201307[42] # sum the entries and exits\n",
    "\n",
    "print('In July 2013, the busiest station:', stations_201307[43].idxmax())\n",
    "print('In July 2013, the least-busy station:', stations_201307[43].idxmin())"
   ]
  },
  {
   "cell_type": "markdown",
   "metadata": {},
   "source": [
    "#  Data Analysis 4\n",
    "\n",
    "Which station had the highest average number of entries between midnight & 4am on Fridays in July 2013?"
   ]
  },
  {
   "cell_type": "code",
   "execution_count": 8,
   "metadata": {},
   "outputs": [
    {
     "name": "stdout",
     "output_type": "stream",
     "text": [
      "In July 2013, between midnight & 4am on Fridays, Station R235 had the highest average number of entries \n"
     ]
    },
    {
     "name": "stderr",
     "output_type": "stream",
     "text": [
      "c:\\program files\\python36\\lib\\site-packages\\ipykernel_launcher.py:18: SettingWithCopyWarning: \n",
      "A value is trying to be set on a copy of a slice from a DataFrame\n",
      "\n",
      "See the caveats in the documentation: http://pandas.pydata.org/pandas-docs/stable/indexing.html#indexing-view-versus-copy\n"
     ]
    }
   ],
   "source": [
    "# select the days which are fridays\n",
    "fridays = ['07-05-13', '07-12-13', '07-19-13', '07-26-13']\n",
    "\n",
    "df_fridays = pd.DataFrame()\n",
    "for i in fridays:\n",
    "    df = df_201307[df_201307[3] == i]\n",
    "    df_fridays = df_fridays.append(df)\n",
    "\n",
    "# select the time period: midnight to 4am\n",
    "df_fridays_midnight_to_4am = df_fridays[(df_fridays[4] == '00:00:00') & (df_fridays[9] == '04:00:00')]\n",
    "\n",
    "\n",
    "\n",
    "# drop the exits from the dataframe\n",
    "entries_index = [6,11,16,21,26,31,36,41]\n",
    "exits_index = [(i+1) for i in entries_index]\n",
    "\n",
    "df_fridays_midnight_to_4am.drop(df_fridays_midnight_to_4am.columns[exits_index], axis = 1, inplace = True)\n",
    "df_fridays_midnight_to_4am = df_fridays_midnight_to_4am.loc[:,0:11]\n",
    "\n",
    "device_per_station = df_fridays_midnight_to_4am[1].value_counts()\n",
    "\n",
    "\n",
    "\n",
    "# Let's write a funtion to calculate the average entries of a station\n",
    "# Average entries = Total entries of a station / number of devices\n",
    "# the Average entries will be stored in a column 'ave_entries'\n",
    "\n",
    "stations = df_fridays_midnight_to_4am.groupby(df_fridays_midnight_to_4am[1]).sum()\n",
    "stations['midnight_4am'] = stations[11] - stations[6] \n",
    "stations['device_per_station'] = device_per_station\n",
    "stations['ave_entries'] = stations['midnight_4am'] / stations['device_per_station']\n",
    "\n",
    "print('In July 2013, between midnight & 4am on Fridays, Station', stations['ave_entries'].idxmax(), 'had the highest average number of entries ')\n"
   ]
  },
  {
   "cell_type": "markdown",
   "metadata": {},
   "source": [
    "# Data Analysis 5\n",
    "What stations have seen the most usage growth/decline in the last year?-2016"
   ]
  },
  {
   "cell_type": "code",
   "execution_count": null,
   "metadata": {
    "collapsed": true
   },
   "outputs": [],
   "source": [
    "# Import the data between 2016-01-02 and 2016-12-31\n",
    "# 52 datasets in total, store all of them in a dictonary: mydfs\n",
    "\n",
    "base = datetime.date(2016,1,2)    \n",
    "dates = [base + datetime.timedelta(i*7) for i in range(0, 53)]\n",
    "dates = [dates[i].strftime('%y%m%d') for i in range(len(dates))] # convert the format\n",
    "\n",
    "links = []\n",
    "for i in range(len(dates)):\n",
    "    links.append('http://web.mta.info/developers/data/nyct/turnstile/turnstile_'+ dates[i] +'.txt')\n",
    "\n",
    "mydfs = {}\n",
    "for i in range(len(links)):   \n",
    "    mydfs[dates[i]] = pd.read_csv(links[i], header = 0, usecols = list(range(11)))\n",
    "\n",
    "\n",
    "# As it is a fairly large dataset, save it in a pickle for conveninence\n",
    "    # import pickle\n",
    "    # pickle.dump(mydfs, open( \"mydfs_2016.p\", \"wb\" ) ) \n",
    "    # mydfs = pickle.load( open( \"mydfs_2016.p\", \"rb\" ) )\n",
    "\n",
    "\n",
    "# Group the data by stations and store all the data in a dataframe: stations   \n",
    "stations = pd.DataFrame()\n",
    "for key in mydfs:\n",
    "    df = mydfs[key]\n",
    "    df = df.groupby(df['UNIT']).sum()\n",
    "    df = df.sum(axis = 1)\n",
    "    df = df.rename(key)\n",
    "    df = df.to_frame()\n",
    "    df = df.transpose()\n",
    "    stations = stations.append(df)"
   ]
  },
  {
   "cell_type": "code",
   "execution_count": 31,
   "metadata": {},
   "outputs": [
    {
     "data": {
      "text/plain": [
       "<matplotlib.text.Text at 0x27644b1c7b8>"
      ]
     },
     "execution_count": 31,
     "metadata": {},
     "output_type": "execute_result"
    },
    {
     "data": {
      "image/png": "[encoded data removed]",
      "text/plain": [
       "<matplotlib.figure.Figure at 0x27648f65198>"
      ]
     },
     "metadata": {},
     "output_type": "display_data"
    }
   ],
   "source": [
    "#  draw the plots of first 4 stations, and examine their usage patterns in 2016\n",
    "stations['R001'].plot(figsize = (10,5))\n",
    "plt.title('The Usage of Station R001 in 2016')"
   ]
  },
  {
   "cell_type": "code",
   "execution_count": 30,
   "metadata": {},
   "outputs": [
    {
     "data": {
      "text/plain": [
       "<matplotlib.text.Text at 0x27648f2d5f8>"
      ]
     },
     "execution_count": 30,
     "metadata": {},
     "output_type": "execute_result"
    },
    {
     "data": {
      "image/png": "[encoded data removed]",
      "text/plain": [
       "<matplotlib.figure.Figure at 0x27648ed5240>"
      ]
     },
     "metadata": {},
     "output_type": "display_data"
    }
   ],
   "source": [
    "stations['R003'].plot(figsize = (10,5))\n",
    "plt.title('The Usage of Station R003 in 2016')"
   ]
  },
  {
   "cell_type": "code",
   "execution_count": 29,
   "metadata": {},
   "outputs": [
    {
     "data": {
      "text/plain": [
       "<matplotlib.text.Text at 0x2764784b748>"
      ]
     },
     "execution_count": 29,
     "metadata": {},
     "output_type": "execute_result"
    },
    {
     "data": {
      "image/png": "[encoded data removed]",
      "text/plain": [
       "<matplotlib.figure.Figure at 0x27639f6d5c0>"
      ]
     },
     "metadata": {},
     "output_type": "display_data"
    }
   ],
   "source": [
    "stations['R004'].plot(figsize = (10,5))\n",
    "plt.title('The Usage of Station R004 in 2016')"
   ]
  },
  {
   "cell_type": "code",
   "execution_count": 28,
   "metadata": {
    "scrolled": true
   },
   "outputs": [
    {
     "data": {
      "text/plain": [
       "<matplotlib.text.Text at 0x276358d8b70>"
      ]
     },
     "execution_count": 28,
     "metadata": {},
     "output_type": "execute_result"
    },
    {
     "data": {
      "image/png": "[encoded data removed]",
      "text/plain": [
       "<matplotlib.figure.Figure at 0x276468657f0>"
      ]
     },
     "metadata": {},
     "output_type": "display_data"
    }
   ],
   "source": [
    "stations['R005'].plot(figsize = (10,5))\n",
    "plt.title('The Usage of Station R005 in 2016')"
   ]
  },
  {
   "cell_type": "markdown",
   "metadata": {},
   "source": [
    "The plots show that most stations' usages increases/decrease by seasons, despite some unusual ups and downs in certain days.\n",
    "\n",
    "Thus, we can use this funtion: usage of Quarter 4 - the usage of Quarter 1 to roughly tell the usage growth/decline of a station in a year.\n"
   ]
  },
  {
   "cell_type": "code",
   "execution_count": 33,
   "metadata": {},
   "outputs": [
    {
     "name": "stdout",
     "output_type": "stream",
     "text": [
      "In 2016, the most usage growth: Station R118\n",
      "In 2016, the most usage decline: Station R080\n"
     ]
    }
   ],
   "source": [
    "df_Q1 = stations.loc['160102':'160326', :]\n",
    "df_Q4 = stations.loc['161011':'161231', :]\n",
    "\n",
    "df_Q1_total = df_Q1.sum(axis = None)\n",
    "df_Q4_total = df_Q4.sum(axis = None)\n",
    "\n",
    "diff = df_Q4_total - df_Q1_total\n",
    "\n",
    "print('In 2016, the most usage growth: Station', diff.idxmax())\n",
    "print('In 2016, the most usage decline: Station', diff.idxmin())"
   ]
  },
  {
   "cell_type": "code",
   "execution_count": 40,
   "metadata": {},
   "outputs": [
    {
     "data": {
      "text/plain": [
       "<matplotlib.text.Text at 0x27646f9d240>"
      ]
     },
     "execution_count": 40,
     "metadata": {},
     "output_type": "execute_result"
    },
    {
     "data": {
      "image/png": "[encoded data removed]",
      "text/plain": [
       "<matplotlib.figure.Figure at 0x27648fb1048>"
      ]
     },
     "metadata": {},
     "output_type": "display_data"
    }
   ],
   "source": [
    "stations['R080'].plot(figsize = (10,5))\n",
    "plt.title('In 2016 the most usage decline: Station R080')"
   ]
  },
  {
   "cell_type": "code",
   "execution_count": 39,
   "metadata": {},
   "outputs": [
    {
     "data": {
      "text/plain": [
       "<matplotlib.text.Text at 0x2763bbd34e0>"
      ]
     },
     "execution_count": 39,
     "metadata": {},
     "output_type": "execute_result"
    },
    {
     "data": {
      "image/png": "[encoded data removed]",
      "text/plain": [
       "<matplotlib.figure.Figure at 0x27639ea55c0>"
      ]
     },
     "metadata": {},
     "output_type": "display_data"
    }
   ],
   "source": [
    "stations['R118'].plot(figsize = (10,5))\n",
    "plt.title('In 2016 the most usage growth: Station R118')"
   ]
  },
  {
   "cell_type": "markdown",
   "metadata": {},
   "source": [
    "# Data Analysis 6\n",
    "\n",
    "What dates are the least busy?\n",
    "\n",
    "Could you identify days on which stations were not operating at full capacity or closed entirely?"
   ]
  },
  {
   "cell_type": "code",
   "execution_count": 32,
   "metadata": {},
   "outputs": [
    {
     "name": "stdout",
     "output_type": "stream",
     "text": [
      "In 2016, the least busy day is: 03/13/2016\n",
      "In 2016, the busiest day is: 12/14/2016\n"
     ]
    },
    {
     "data": {
      "text/plain": [
       "<matplotlib.text.Text at 0x276448d16d8>"
      ]
     },
     "execution_count": 32,
     "metadata": {},
     "output_type": "execute_result"
    },
    {
     "data": {
      "image/png": "[encoded data removed]",
      "text/plain": [
       "<matplotlib.figure.Figure at 0x276181b47f0>"
      ]
     },
     "metadata": {},
     "output_type": "display_data"
    }
   ],
   "source": [
    "df_2016_by_days = pd.DataFrame()   \n",
    "\n",
    "for key in mydfs:\n",
    "    df = mydfs[key]\n",
    "    df = df.groupby(['DATE']).sum()\n",
    "    df_2016_by_days = df_2016_by_days.append(df)\n",
    "\n",
    "# drop the data between '12/26/2015'and '12/31/2015'\n",
    "df_2016_by_days = df_2016_by_days.drop(df_2016_by_days.index[1:7])   \n",
    "    \n",
    "df_2016__by_days_total = df_2016_by_days.sum(axis = 1)\n",
    "\n",
    "print('In 2016, the least busy day is:',df_2016__by_days_total.idxmin())\n",
    "print('In 2016, the busiest day is:', df_2016__by_days_total.idxmax())\n",
    "\n",
    "df_2016__by_days_total.plot(figsize = (15,8))\n",
    "plt.title('The Station Usage by Date in 2016')"
   ]
  },
  {
   "cell_type": "markdown",
   "metadata": {},
   "source": [
    "Let's check the distribution of the station usage in the year of 2016\n",
    "\n",
    "And then create a threshold:\n",
    "\n",
    "    if the usage > = top 20% percentile, it indicates the stations are running beyond the full capacity on that day\n",
    "    if the usage < =  bottom 20% percentile, it indicates the stations are not running at full capacity on that day\n"
   ]
  },
  {
   "cell_type": "code",
   "execution_count": 44,
   "metadata": {},
   "outputs": [
    {
     "data": {
      "text/plain": [
       "<matplotlib.text.Text at 0x2764c89ee80>"
      ]
     },
     "execution_count": 44,
     "metadata": {},
     "output_type": "execute_result"
    },
    {
     "data": {
      "image/png": "[encoded data removed]",
      "text/plain": [
       "<matplotlib.figure.Figure at 0x2764c7f6470>"
      ]
     },
     "metadata": {},
     "output_type": "display_data"
    }
   ],
   "source": [
    "# check the distribution\n",
    "plt.hist(df_2016__by_days_total, bins = 200)\n",
    "plt.title('The distrubtion of Station Usages in 2016')"
   ]
  },
  {
   "cell_type": "code",
   "execution_count": 45,
   "metadata": {},
   "outputs": [
    {
     "name": "stdout",
     "output_type": "stream",
     "text": [
      "The stations were not running at the full capacity at the following days:\n",
      "Index(['01/01/2016', '01/02/2016', '01/03/2016', '01/04/2016', '01/06/2016',\n",
      "       '01/07/2016', '01/08/2016', '01/09/2016', '01/10/2016', '01/12/2016',\n",
      "       '01/13/2016', '01/14/2016', '01/15/2016', '01/16/2016', '01/17/2016',\n",
      "       '01/18/2016', '01/19/2016', '01/23/2016', '01/24/2016', '01/25/2016',\n",
      "       '01/29/2016', '01/30/2016', '01/31/2016', '02/02/2016', '02/06/2016',\n",
      "       '02/07/2016', '02/08/2016', '02/09/2016', '02/13/2016', '02/14/2016',\n",
      "       '02/15/2016', '02/17/2016', '02/20/2016', '02/21/2016', '02/22/2016',\n",
      "       '02/23/2016', '02/27/2016', '02/28/2016', '03/02/2016', '03/03/2016',\n",
      "       '03/05/2016', '03/06/2016', '03/08/2016', '03/11/2016', '03/12/2016',\n",
      "       '03/13/2016', '03/15/2016', '03/18/2016', '03/19/2016', '03/20/2016',\n",
      "       '03/21/2016', '03/22/2016', '03/23/2016', '03/25/2016', '03/27/2016',\n",
      "       '03/29/2016', '03/30/2016', '04/02/2016', '04/09/2016', '04/10/2016',\n",
      "       '04/20/2016', '04/21/2016', '04/22/2016', '04/23/2016', '04/24/2016',\n",
      "       '04/27/2016', '04/28/2016', '05/20/2016', '08/16/2016', '08/17/2016',\n",
      "       '08/18/2016', '08/19/2016', '09/15/2016'],\n",
      "      dtype='object', name='DATE')\n"
     ]
    }
   ],
   "source": [
    "# define the threshold\n",
    "top_20 = df_2016__by_days_total.quantile(q = 0.8)\n",
    "bottom_20 = df_2016__by_days_total.quantile(q = 0.2)\n",
    "\n",
    "# use the threshold to check the days on which stations are not running at full capacity\n",
    "days_not_full_capacity = df_2016__by_days_total[df_2016__by_days_total < bottom_20]\n",
    "\n",
    "print('The stations were not running at the full capacity at the following days:')\n",
    "print(days_not_full_capacity.index)"
   ]
  },
  {
   "cell_type": "markdown",
   "metadata": {},
   "source": [
    "#  Modeling  \n",
    "\n",
    "Let’s develop a model for 4hr-interval exit count by turnstile device \n",
    "\n",
    "What features were explored? \n",
    "\n",
    "How does this model perform?\n",
    "\n",
    "What is our predicted exit count for R195 during the 16:00-20:00 interval on Friday September 6, 2013?\n"
   ]
  },
  {
   "cell_type": "code",
   "execution_count": null,
   "metadata": {
    "collapsed": true
   },
   "outputs": [],
   "source": [
    "# Let's choose the data in the year of 2013 from Jan 1 to Sep 14\n",
    "# we will split the data into train and test data afterwards\n",
    "\n",
    "base = datetime.date(2013,1,5)    \n",
    "dates = [base + datetime.timedelta(i*7) for i in range(0, 37)]\n",
    "dates = [dates[i].strftime('%y%m%d') for i in range(len(dates))] # convert the format\n",
    "\n",
    "links = []\n",
    "for i in range(len(dates)):\n",
    "    links.append('http://web.mta.info/developers/data/nyct/turnstile/turnstile_'+ dates[i] +'.txt')\n",
    "\n",
    "mydfs= {}\n",
    "for i in range(len(links)):   \n",
    "    mydfs[dates[i]] = pd.read_csv(links[i], header = None, usecols = list(range(43)))  \n",
    "\n",
    "\n",
    "# As it is a fairly large dataset, save it in a pickle for conveninence\n",
    "#==============================================================================\n",
    "#import pickle\n",
    "#pickle.dump(mydfs, open( \"mydfs_2013.p\", \"wb\" ) ) \n",
    "#mydfs = pickle.load( open( \"mydfs_2013.p\", \"rb\" ) )\n",
    "#==============================================================================\n",
    "\n",
    "# select the station R195 and combine it in a single dataframe\n",
    "df_R195 = pd.DataFrame()\n",
    "for key in mydfs:\n",
    "    df = mydfs[key]\n",
    "    df.columns = ['Area', 'Station', 'SCP', \n",
    "               'Date1','Time1', 'Status1', 'Entry1', 'Exit1',\n",
    "               'Date2','Time2', 'Status2', 'Entry2', 'Exit2',\n",
    "               'Date3','Time3', 'Status3', 'Entry3', 'Exit3',\n",
    "               'Date4','Time4', 'Status4', 'Entry4', 'Exit4',\n",
    "               'Date5','Time5', 'Status5', 'Entry5', 'Exit5',\n",
    "               'Date6','Time6', 'Status6', 'Entry6', 'Exit6',\n",
    "               'Date7','Time7', 'Status7', 'Entry7', 'Exit7',\n",
    "               'Date8','Time8', 'Status8', 'Entry8', 'Exit8',]\n",
    "    df = df[df['Station'] == 'R195']\n",
    "    df_R195 = df_R195.append(df)\n",
    "\n",
    "\n"
   ]
  },
  {
   "cell_type": "code",
   "execution_count": 47,
   "metadata": {},
   "outputs": [
    {
     "data": {
      "text/html": [
       "<div>\n",
       "<table border=\"1\" class=\"dataframe\">\n",
       "  <thead>\n",
       "    <tr style=\"text-align: right;\">\n",
       "      <th></th>\n",
       "      <th>Area</th>\n",
       "      <th>Station</th>\n",
       "      <th>SCP</th>\n",
       "      <th>Date1</th>\n",
       "      <th>Time1</th>\n",
       "      <th>Status1</th>\n",
       "      <th>Entry1</th>\n",
       "      <th>Exit1</th>\n",
       "      <th>Date2</th>\n",
       "      <th>Time2</th>\n",
       "      <th>...</th>\n",
       "      <th>Date7</th>\n",
       "      <th>Time7</th>\n",
       "      <th>Status7</th>\n",
       "      <th>Entry7</th>\n",
       "      <th>Exit7</th>\n",
       "      <th>Date8</th>\n",
       "      <th>Time8</th>\n",
       "      <th>Status8</th>\n",
       "      <th>Entry8</th>\n",
       "      <th>Exit8</th>\n",
       "    </tr>\n",
       "  </thead>\n",
       "  <tbody>\n",
       "    <tr>\n",
       "      <th>9636</th>\n",
       "      <td>N203</td>\n",
       "      <td>R195</td>\n",
       "      <td>00-00-00</td>\n",
       "      <td>12-29-12</td>\n",
       "      <td>03:22:00</td>\n",
       "      <td>REGULAR</td>\n",
       "      <td>3450210</td>\n",
       "      <td>3401303</td>\n",
       "      <td>12-29-12</td>\n",
       "      <td>07:22:00</td>\n",
       "      <td>...</td>\n",
       "      <td>12-29-12</td>\n",
       "      <td>20:10:44</td>\n",
       "      <td>LOGON</td>\n",
       "      <td>3451322.0</td>\n",
       "      <td>3402112.0</td>\n",
       "      <td>12-29-12</td>\n",
       "      <td>20:11:17</td>\n",
       "      <td>DOOR CLOSE</td>\n",
       "      <td>3451322.0</td>\n",
       "      <td>3402112.0</td>\n",
       "    </tr>\n",
       "    <tr>\n",
       "      <th>9637</th>\n",
       "      <td>N203</td>\n",
       "      <td>R195</td>\n",
       "      <td>00-00-00</td>\n",
       "      <td>12-29-12</td>\n",
       "      <td>20:13:59</td>\n",
       "      <td>LGF-MAN</td>\n",
       "      <td>3451322</td>\n",
       "      <td>3402112</td>\n",
       "      <td>12-29-12</td>\n",
       "      <td>23:22:00</td>\n",
       "      <td>...</td>\n",
       "      <td>12-30-12</td>\n",
       "      <td>03:22:00</td>\n",
       "      <td>REGULAR</td>\n",
       "      <td>3451395.0</td>\n",
       "      <td>3402190.0</td>\n",
       "      <td>12-30-12</td>\n",
       "      <td>07:22:00</td>\n",
       "      <td>REGULAR</td>\n",
       "      <td>3451411.0</td>\n",
       "      <td>3402213.0</td>\n",
       "    </tr>\n",
       "    <tr>\n",
       "      <th>9638</th>\n",
       "      <td>N203</td>\n",
       "      <td>R195</td>\n",
       "      <td>00-00-00</td>\n",
       "      <td>12-30-12</td>\n",
       "      <td>11:22:00</td>\n",
       "      <td>REGULAR</td>\n",
       "      <td>3451496</td>\n",
       "      <td>3402270</td>\n",
       "      <td>12-30-12</td>\n",
       "      <td>15:22:00</td>\n",
       "      <td>...</td>\n",
       "      <td>12-31-12</td>\n",
       "      <td>11:22:00</td>\n",
       "      <td>REGULAR</td>\n",
       "      <td>3452218.0</td>\n",
       "      <td>3402926.0</td>\n",
       "      <td>12-31-12</td>\n",
       "      <td>15:22:00</td>\n",
       "      <td>REGULAR</td>\n",
       "      <td>3452447.0</td>\n",
       "      <td>3403154.0</td>\n",
       "    </tr>\n",
       "    <tr>\n",
       "      <th>9639</th>\n",
       "      <td>N203</td>\n",
       "      <td>R195</td>\n",
       "      <td>00-00-00</td>\n",
       "      <td>12-31-12</td>\n",
       "      <td>19:22:00</td>\n",
       "      <td>REGULAR</td>\n",
       "      <td>3452627</td>\n",
       "      <td>3403405</td>\n",
       "      <td>12-31-12</td>\n",
       "      <td>23:22:00</td>\n",
       "      <td>...</td>\n",
       "      <td>01-01-13</td>\n",
       "      <td>19:22:00</td>\n",
       "      <td>REGULAR</td>\n",
       "      <td>3453060.0</td>\n",
       "      <td>3403838.0</td>\n",
       "      <td>01-01-13</td>\n",
       "      <td>23:22:00</td>\n",
       "      <td>REGULAR</td>\n",
       "      <td>3453108.0</td>\n",
       "      <td>3403905.0</td>\n",
       "    </tr>\n",
       "    <tr>\n",
       "      <th>9640</th>\n",
       "      <td>N203</td>\n",
       "      <td>R195</td>\n",
       "      <td>00-00-00</td>\n",
       "      <td>01-02-13</td>\n",
       "      <td>03:22:00</td>\n",
       "      <td>REGULAR</td>\n",
       "      <td>3453119</td>\n",
       "      <td>3403924</td>\n",
       "      <td>01-02-13</td>\n",
       "      <td>07:22:00</td>\n",
       "      <td>...</td>\n",
       "      <td>01-03-13</td>\n",
       "      <td>03:22:00</td>\n",
       "      <td>REGULAR</td>\n",
       "      <td>3454168.0</td>\n",
       "      <td>3404838.0</td>\n",
       "      <td>01-03-13</td>\n",
       "      <td>07:22:00</td>\n",
       "      <td>REGULAR</td>\n",
       "      <td>3454286.0</td>\n",
       "      <td>3404894.0</td>\n",
       "    </tr>\n",
       "  </tbody>\n",
       "</table>\n",
       "<p>5 rows × 43 columns</p>\n",
       "</div>"
      ],
      "text/plain": [
       "      Area Station       SCP     Date1     Time1  Status1   Entry1    Exit1  \\\n",
       "9636  N203    R195  00-00-00  12-29-12  03:22:00  REGULAR  3450210  3401303   \n",
       "9637  N203    R195  00-00-00  12-29-12  20:13:59  LGF-MAN  3451322  3402112   \n",
       "9638  N203    R195  00-00-00  12-30-12  11:22:00  REGULAR  3451496  3402270   \n",
       "9639  N203    R195  00-00-00  12-31-12  19:22:00  REGULAR  3452627  3403405   \n",
       "9640  N203    R195  00-00-00  01-02-13  03:22:00  REGULAR  3453119  3403924   \n",
       "\n",
       "         Date2     Time2    ...         Date7     Time7  Status7     Entry7  \\\n",
       "9636  12-29-12  07:22:00    ...      12-29-12  20:10:44    LOGON  3451322.0   \n",
       "9637  12-29-12  23:22:00    ...      12-30-12  03:22:00  REGULAR  3451395.0   \n",
       "9638  12-30-12  15:22:00    ...      12-31-12  11:22:00  REGULAR  3452218.0   \n",
       "9639  12-31-12  23:22:00    ...      01-01-13  19:22:00  REGULAR  3453060.0   \n",
       "9640  01-02-13  07:22:00    ...      01-03-13  03:22:00  REGULAR  3454168.0   \n",
       "\n",
       "          Exit7     Date8     Time8     Status8     Entry8      Exit8  \n",
       "9636  3402112.0  12-29-12  20:11:17  DOOR CLOSE  3451322.0  3402112.0  \n",
       "9637  3402190.0  12-30-12  07:22:00     REGULAR  3451411.0  3402213.0  \n",
       "9638  3402926.0  12-31-12  15:22:00     REGULAR  3452447.0  3403154.0  \n",
       "9639  3403838.0  01-01-13  23:22:00     REGULAR  3453108.0  3403905.0  \n",
       "9640  3404838.0  01-03-13  07:22:00     REGULAR  3454286.0  3404894.0  \n",
       "\n",
       "[5 rows x 43 columns]"
      ]
     },
     "execution_count": 47,
     "metadata": {},
     "output_type": "execute_result"
    }
   ],
   "source": [
    "#==============================================================================\n",
    "# # save it in a pickle\n",
    "import pickle\n",
    "# pickle.dump(df_R195, open( \"df_R195_2013.p\", \"wb\" ) ) \n",
    "df_R195 = pickle.load( open( \"df_R195_2013.p\", \"rb\" ) )\n",
    "df_R195.head()"
   ]
  },
  {
   "cell_type": "code",
   "execution_count": 48,
   "metadata": {
    "collapsed": true
   },
   "outputs": [],
   "source": [
    "# check the Station's Area code with Reomote Booth Station.xlsx\n",
    "# Station R195, \"161 ST YanKee\", has six unique Area codes \n",
    "df_R195['Area'].unique()\n",
    "\n",
    "\n",
    "# Area code is not useful for prediction, so we drop it\n",
    "df_R195.drop('Area', axis = 1, inplace = True)\n",
    "\n",
    "\n",
    " \n",
    "# now we need to reformat the dataframe, make it in a time series shape\n",
    "df = pd.DataFrame()\n",
    "\n",
    "for i in list(range(1,9)):\n",
    "    tempdf = df_R195[['Station', 'SCP',\n",
    "                'Date'+str(i),\n",
    "                'Time'+str(i), \n",
    "                'Status'+str(i), \n",
    "                'Entry'+str(i), \n",
    "                'Exit'+str(i)]]\n",
    "    tempdf.columns = ['Station', 'SCP','Date','Time', 'Status', 'Entry', 'Exit']\n",
    "    df = df.append(tempdf)"
   ]
  },
  {
   "cell_type": "markdown",
   "metadata": {},
   "source": [
    "\n",
    "#  Data cleaning "
   ]
  },
  {
   "cell_type": "code",
   "execution_count": 49,
   "metadata": {
    "collapsed": true
   },
   "outputs": [],
   "source": [
    "#==============================================================================\n",
    "# # so \"df\" is the new dataframe we're going to work on\n",
    "# # first drop the rows without Date values\n",
    "#==============================================================================\n",
    "df = df.dropna(subset=['Date'])\n",
    "\n",
    "\n",
    "# next we need to sum up the devices on the same time & on same day\n",
    "df = df.groupby(['Date','Time', 'Status']).sum()\n",
    "\n",
    "\n",
    "# conver the index into three columns\n",
    "combined = pd.concat([df.reset_index()[['Date', 'Time', 'Status']].apply(pd.Series), \n",
    "                          df.reset_index(drop=True)], \n",
    "                          axis=1)\n",
    "\n",
    "# drop the data in 2012\n",
    "combined = combined[combined['Date'].str.contains('-13')]\n",
    "\n",
    "# combine \"Date\" and \"Time\" and set it as Datetime Index\n",
    "combined = combined.set_index(pd.to_datetime(combined['Date'] + ' ' + combined['Time']))\n",
    "\n",
    "\n",
    "# Further cleaning up: drop the time which is not between four hour intervals\n",
    "# The way to do it is to keep the rows whose time format is:  \"**:22:00\" \n",
    "\n",
    "combined = combined[combined['Time'].str.contains(':22:00')]\n",
    "\n",
    "# drop the duplicates with dame data and time (which refers to the unregular status)\n",
    "combined = combined.drop_duplicates(['Date', 'Time'])\n",
    "\n",
    "# the following line can also be used to remove the rows with unregular status\n",
    "# but I didn't use it, because it creates too many missing data.\n",
    "# combined2 = combined[combine['Status'] == 'REGULAR'] \n",
    "\n",
    "# Finally, drop the 'Date', 'Time', 'Status'\n",
    "combined.drop(['Date', 'Time','Status'], axis = 1, inplace = True)\n",
    "\n"
   ]
  },
  {
   "cell_type": "markdown",
   "metadata": {},
   "source": [
    "##### Now the dataset is very clean and ready for modeling!\n",
    "\n",
    "Let's first take a look at the trends of our selected Station, R195. \n",
    "\n",
    "The plot shows gradual usage growth of Station R195 from Jan 2013 to Sep 2013 "
   ]
  },
  {
   "cell_type": "code",
   "execution_count": 53,
   "metadata": {},
   "outputs": [
    {
     "data": {
      "text/html": [
       "<div>\n",
       "<table border=\"1\" class=\"dataframe\">\n",
       "  <thead>\n",
       "    <tr style=\"text-align: right;\">\n",
       "      <th></th>\n",
       "      <th>Entry</th>\n",
       "      <th>Exit</th>\n",
       "    </tr>\n",
       "  </thead>\n",
       "  <tbody>\n",
       "    <tr>\n",
       "      <th>2013-01-01 03:22:00</th>\n",
       "      <td>57308825.0</td>\n",
       "      <td>43088232.0</td>\n",
       "    </tr>\n",
       "    <tr>\n",
       "      <th>2013-01-01 07:22:00</th>\n",
       "      <td>57309553.0</td>\n",
       "      <td>43088773.0</td>\n",
       "    </tr>\n",
       "    <tr>\n",
       "      <th>2013-01-01 11:22:00</th>\n",
       "      <td>57310969.0</td>\n",
       "      <td>43089369.0</td>\n",
       "    </tr>\n",
       "    <tr>\n",
       "      <th>2013-01-01 15:22:00</th>\n",
       "      <td>57313168.0</td>\n",
       "      <td>43090433.0</td>\n",
       "    </tr>\n",
       "    <tr>\n",
       "      <th>2013-01-01 19:22:00</th>\n",
       "      <td>57315755.0</td>\n",
       "      <td>43092329.0</td>\n",
       "    </tr>\n",
       "    <tr>\n",
       "      <th>2013-01-01 23:22:00</th>\n",
       "      <td>57317073.0</td>\n",
       "      <td>43093590.0</td>\n",
       "    </tr>\n",
       "    <tr>\n",
       "      <th>2013-01-02 03:22:00</th>\n",
       "      <td>57317475.0</td>\n",
       "      <td>43094076.0</td>\n",
       "    </tr>\n",
       "    <tr>\n",
       "      <th>2013-01-02 07:22:00</th>\n",
       "      <td>57319975.0</td>\n",
       "      <td>43094558.0</td>\n",
       "    </tr>\n",
       "    <tr>\n",
       "      <th>2013-01-02 11:22:00</th>\n",
       "      <td>57326441.0</td>\n",
       "      <td>43097377.0</td>\n",
       "    </tr>\n",
       "    <tr>\n",
       "      <th>2013-01-02 15:22:00</th>\n",
       "      <td>57331818.0</td>\n",
       "      <td>43100057.0</td>\n",
       "    </tr>\n",
       "    <tr>\n",
       "      <th>2013-01-02 19:22:00</th>\n",
       "      <td>57337786.0</td>\n",
       "      <td>43103918.0</td>\n",
       "    </tr>\n",
       "    <tr>\n",
       "      <th>2013-01-02 23:22:00</th>\n",
       "      <td>57339290.0</td>\n",
       "      <td>43105700.0</td>\n",
       "    </tr>\n",
       "  </tbody>\n",
       "</table>\n",
       "</div>"
      ],
      "text/plain": [
       "                          Entry        Exit\n",
       "2013-01-01 03:22:00  57308825.0  43088232.0\n",
       "2013-01-01 07:22:00  57309553.0  43088773.0\n",
       "2013-01-01 11:22:00  57310969.0  43089369.0\n",
       "2013-01-01 15:22:00  57313168.0  43090433.0\n",
       "2013-01-01 19:22:00  57315755.0  43092329.0\n",
       "2013-01-01 23:22:00  57317073.0  43093590.0\n",
       "2013-01-02 03:22:00  57317475.0  43094076.0\n",
       "2013-01-02 07:22:00  57319975.0  43094558.0\n",
       "2013-01-02 11:22:00  57326441.0  43097377.0\n",
       "2013-01-02 15:22:00  57331818.0  43100057.0\n",
       "2013-01-02 19:22:00  57337786.0  43103918.0\n",
       "2013-01-02 23:22:00  57339290.0  43105700.0"
      ]
     },
     "execution_count": 53,
     "metadata": {},
     "output_type": "execute_result"
    }
   ],
   "source": [
    "combined.head(12)"
   ]
  },
  {
   "cell_type": "code",
   "execution_count": 52,
   "metadata": {},
   "outputs": [
    {
     "data": {
      "text/plain": [
       "<matplotlib.text.Text at 0x2764c61ba90>"
      ]
     },
     "execution_count": 52,
     "metadata": {},
     "output_type": "execute_result"
    },
    {
     "data": {
      "image/png": "[encoded data removed]",
      "text/plain": [
       "<matplotlib.figure.Figure at 0x2765425e860>"
      ]
     },
     "metadata": {},
     "output_type": "display_data"
    }
   ],
   "source": [
    "# check the usage trends\n",
    "combined[['Exit', 'Entry']].plot(figsize = (15,5))\n",
    "plt.title('The usuage trend of R195 in 2013')"
   ]
  },
  {
   "cell_type": "code",
   "execution_count": 54,
   "metadata": {},
   "outputs": [
    {
     "ename": "ModuleNotFoundError",
     "evalue": "No module named 'sklearn'",
     "output_type": "error",
     "traceback": [
      "\u001b[1;31m---------------------------------------------------------------------------\u001b[0m",
      "\u001b[1;31mModuleNotFoundError\u001b[0m                       Traceback (most recent call last)",
      "\u001b[1;32m<ipython-input-54-0fb2e99468c6>\u001b[0m in \u001b[0;36m<module>\u001b[1;34m()\u001b[0m\n\u001b[0;32m      2\u001b[0m \u001b[1;31m# let's first try regression model and SVM\u001b[0m\u001b[1;33m\u001b[0m\u001b[1;33m\u001b[0m\u001b[0m\n\u001b[0;32m      3\u001b[0m \u001b[1;31m#==============================================================================\u001b[0m\u001b[1;33m\u001b[0m\u001b[1;33m\u001b[0m\u001b[0m\n\u001b[1;32m----> 4\u001b[1;33m \u001b[1;32mfrom\u001b[0m \u001b[0msklearn\u001b[0m \u001b[1;32mimport\u001b[0m \u001b[0mpreprocessing\u001b[0m\u001b[1;33m,\u001b[0m \u001b[0mcross_validation\u001b[0m\u001b[1;33m,\u001b[0m \u001b[0msvm\u001b[0m\u001b[1;33m\u001b[0m\u001b[0m\n\u001b[0m\u001b[0;32m      5\u001b[0m \u001b[1;33m\u001b[0m\u001b[0m\n\u001b[0;32m      6\u001b[0m \u001b[0mshift_windows\u001b[0m \u001b[1;33m=\u001b[0m \u001b[1;36m6\u001b[0m\u001b[1;33m\u001b[0m\u001b[0m\n",
      "\u001b[1;31mModuleNotFoundError\u001b[0m: No module named 'sklearn'"
     ]
    }
   ],
   "source": [
    "#==============================================================================\n",
    "# let's first try regression model and SVM\n",
    "#==============================================================================\n",
    "from sklearn import preprocessing, cross_validation, svm\n",
    "\n",
    "shift_windows = 6\n",
    "combined['ShiftBack_Exit'] = combined['Exit'].shift(-shift_windows)\n",
    "combined.dropna(inplace=True)\n",
    "\n",
    "x = np.array(combined['Exit'])\n",
    "y = np.array(combined['ShiftBack_Exit'])\n",
    "\n",
    "x = x.reshape((len(x),1))\n",
    "y = y.reshape((len(y),1))\n",
    "\n",
    "x = preprocessing.scale(x)\n",
    "\n",
    "x_train, x_test, y_train, y_test = cross_validation.train_test_split(x, y, test_size = 0.2)\n"
   ]
  },
  {
   "cell_type": "markdown",
   "metadata": {},
   "source": [
    "###### Regression modeling"
   ]
  },
  {
   "cell_type": "code",
   "execution_count": null,
   "metadata": {
    "collapsed": true
   },
   "outputs": [],
   "source": [
    "from sklearn.linear_model import LinearRegression\n",
    "clf = LinearRegression(n_jobs=-1)\n",
    "clf.fit(x_train, y_train)\n",
    "confidence = clf.score(x_test, y_test)\n",
    "print(confidence)\n"
   ]
  },
  {
   "cell_type": "markdown",
   "metadata": {},
   "source": [
    "###### Support Vector Machines"
   ]
  },
  {
   "cell_type": "code",
   "execution_count": null,
   "metadata": {
    "collapsed": true
   },
   "outputs": [],
   "source": [
    "clf = svm.SVR()\n",
    "clf.fit(x_train, y_train)\n",
    "confidence = clf.score(x_test, y_test)\n",
    "print(\"SVP Confidence：\", confidence)\n",
    "\n",
    "for k in ['linear','poly','rbf','sigmoid']:\n",
    "    clf = svm.SVR(kernel=k)\n",
    "    clf.fit(x_train, y_train)\n",
    "    confidence = clf.score(x_test, y_test)\n",
    "    print(k,confidence)\n",
    "    "
   ]
  },
  {
   "cell_type": "markdown",
   "metadata": {
    "collapsed": true
   },
   "source": [
    "The confidence levels are extremely low for both Regression and SVM. So they are not propoer methods to use.\n",
    "It also makes sense because regression and SVM fail to consider the time as a factor.\n",
    "##### Now let's try Time Series-Based methods"
   ]
  },
  {
   "cell_type": "markdown",
   "metadata": {},
   "source": [
    "# 1 Moving Average and Stationarity Test"
   ]
  },
  {
   "cell_type": "code",
   "execution_count": null,
   "metadata": {
    "collapsed": true
   },
   "outputs": [],
   "source": [
    "def test_stationarity(timeseriesdata):\n",
    "    # Rolling Mean and Rolling Standard deviation    \n",
    "    rolmean = pd.rolling_mean(timeseriesdata, window = 6) # choose 6 as the window size, given 4 hour interval, 24/4=6.\n",
    "    rolstd = pd.rolling_std(timeseriesdata, window = 6) \n",
    "    \n",
    "    #Plot rolling statistics:\n",
    "    timeseriesdata.plot(label = 'Original')\n",
    "    rolmean.plot(label = 'Rolling Mean')\n",
    "    rolstd.plot(color = 'red', label = 'Rolling Standard Deviation')\n",
    "    plt.title('Rolling Mean & Standard Deviation')\n",
    "    plt.legend()\n",
    "    \n",
    "    #Perform Dickey-Fuller test:(check the stationarity)\n",
    "    from statsmodels.tsa.stattools import adfuller\n",
    "    print('Results of Dickey-Fuller Test:')\n",
    "    dftest = adfuller(timeseriesdata, autolag='AIC')\n",
    "    dfoutput = pd.Series(dftest[0:4], index=['Test Statistic','p-value','#Lags Used','Number of Observations Used'])\n",
    "    for key,value in dftest[4].items():\n",
    "        dfoutput['Critical Value (%s)'%key] = value\n",
    "    print(dfoutput)\n",
    "    \n",
    "    \n",
    "    \n",
    "test_stationarity(combined['Exit'])   "
   ]
  },
  {
   "cell_type": "markdown",
   "metadata": {
    "collapsed": true
   },
   "source": [
    "The test statistic is smaller than the 5% critical value, so we can say with 95% confidence that this is a stationary series.\n",
    "\n",
    "\n",
    "we can do a log transformation to increase the stationarity of the data\n"
   ]
  },
  {
   "cell_type": "code",
   "execution_count": null,
   "metadata": {
    "collapsed": true
   },
   "outputs": [],
   "source": [
    "ts_log = np.log(combined['Exit'])\n",
    "ts_log_rolmean = pd.rolling_mean(ts_log, 6)\n",
    "plt.plot(ts_log, color = 'blue')\n",
    "plt.plot(ts_log_rolmean, color = 'red')\n",
    "\n",
    "ts_log_rolmean_diff = ts_log - ts_log_rolmean\n",
    "ts_log_rolmean_diff.dropna(inplace = True)\n",
    "test_stationarity(ts_log_rolmean_diff)\n",
    "\n",
    "# the test statistic is smaller than the 1% critical value, which is better than the previous one\n"
   ]
  },
  {
   "cell_type": "markdown",
   "metadata": {},
   "source": [
    "# 2 Exponentially Weighted Moving Average"
   ]
  },
  {
   "cell_type": "code",
   "execution_count": null,
   "metadata": {
    "collapsed": true
   },
   "outputs": [],
   "source": [
    "#==============================================================================\n",
    "# this method gives the  more recent values a higher weight \n",
    "#==============================================================================\n",
    "\n",
    "expweighted_rolmean = pd.ewma(ts_log, 6)\n",
    "plt.plot(ts_log, color = 'blue')\n",
    "plt.plot(expweighted_rolmean, color = 'red')\n",
    "\n",
    "ts_log_expweighted_rolmean_diff = ts_log - expweighted_rolmean\n",
    "test_stationarity(ts_log_expweighted_rolmean_diff)\n",
    "\n",
    "# the test result is even better.\n"
   ]
  },
  {
   "cell_type": "markdown",
   "metadata": {},
   "source": [
    "# 3 Decomposing and Modeling the trend and seasonality\n",
    "\n",
    "###### decompose data into: trend, seasonality and residuals"
   ]
  },
  {
   "cell_type": "code",
   "execution_count": null,
   "metadata": {
    "collapsed": true
   },
   "outputs": [],
   "source": [
    "from statsmodels.tsa.seasonal import seasonal_decompose\n",
    "decomposition = seasonal_decompose(ts_log,freq=6)\n",
    "\n",
    "trend = decomposition.trend\n",
    "seasonal = decomposition.seasonal\n",
    "residual = decomposition.resid\n",
    "\n",
    "fig = plt.figure(figsize=(20, 8))\n",
    "plt.subplot(411)\n",
    "plt.plot(ts_log, label='Original')\n",
    "plt.legend(loc='best')\n",
    "plt.subplot(412)\n",
    "plt.plot(trend, label='Trend')\n",
    "plt.legend(loc='best')\n",
    "plt.subplot(413)\n",
    "plt.plot(seasonal,label='Seasonality')\n",
    "plt.legend(loc='best')\n",
    "plt.subplot(414)\n",
    "plt.plot(residual, label='Residuals')\n",
    "plt.legend(loc='best')\n",
    "plt.tight_layout()"
   ]
  },
  {
   "cell_type": "markdown",
   "metadata": {},
   "source": [
    "#### Remove trend and seasonality with first order differencing"
   ]
  },
  {
   "cell_type": "code",
   "execution_count": null,
   "metadata": {
    "collapsed": true
   },
   "outputs": [],
   "source": [
    "ts_log_diff = ts_log - ts_log.shift(1)\n",
    "plt.plot(ts_log_diff )\n",
    "\n",
    "ts_log_diff.dropna(inplace = True)\n",
    "test_stationarity(ts_log_diff) \n"
   ]
  },
  {
   "cell_type": "markdown",
   "metadata": {},
   "source": [
    "###### ACF and PACF plots:"
   ]
  },
  {
   "cell_type": "code",
   "execution_count": null,
   "metadata": {
    "collapsed": true
   },
   "outputs": [],
   "source": [
    "from statsmodels.tsa.stattools import acf, pacf\n",
    "lag_acf = acf(ts_log_diff, nlags=20)\n",
    "lag_pacf = pacf(ts_log_diff, nlags=20, method='ols')\n",
    "\n",
    "#Plot ACF: \n",
    "plt.subplot(121) \n",
    "plt.plot(lag_acf)\n",
    "plt.axhline(y=0,linestyle='--',color='gray')\n",
    "plt.axhline(y=-1.96/np.sqrt(len(ts_log_diff)),linestyle='--',color='gray')\n",
    "plt.axhline(y=1.96/np.sqrt(len(ts_log_diff)),linestyle='--',color='gray')\n",
    "plt.title('Autocorrelation Function')\n",
    "\n",
    "#Plot PACF:\n",
    "plt.subplot(122)\n",
    "plt.plot(lag_pacf)\n",
    "plt.axhline(y=0,linestyle='--',color='gray')\n",
    "plt.axhline(y=-1.96/np.sqrt(len(ts_log_diff)),linestyle='--',color='gray')\n",
    "plt.axhline(y=1.96/np.sqrt(len(ts_log_diff)),linestyle='--',color='gray')\n",
    "plt.title('Partial Autocorrelation Function')\n",
    "plt.tight_layout()"
   ]
  },
  {
   "cell_type": "markdown",
   "metadata": {},
   "source": [
    "PACF: the first point drops to 0, p = 1\n",
    "\n",
    "ACF: the first point cross the upper confidence interval, q = 1"
   ]
  },
  {
   "cell_type": "code",
   "execution_count": null,
   "metadata": {
    "collapsed": true
   },
   "outputs": [],
   "source": [
    "#==============================================================================\n",
    "# #### now we're going to model the residuals\n",
    "#==============================================================================\n",
    "ts_log_decompose = residual\n",
    "ts_log_decompose.dropna(inplace = True)\n",
    "test_stationarity(ts_log_decompose)\n",
    "\n",
    "\n",
    "from statsmodels.tsa.arima_model import ARIMA\n",
    "\n",
    "# fit model\n",
    "model = ARIMA(ts_log, order=(1,1,1)) # order = (p, d, q)\n",
    "model_fit = model.fit(disp=-1)\n",
    "\n",
    "fig = plt.figure(figsize=(16, 8))\n",
    "plt.plot(ts_log_diff)\n",
    "plt.plot(model_fit.fittedvalues, color = 'red')\n",
    "plt.legend()\n",
    "plt.title('RSS: %.4f'% sum((model_fit.fittedvalues-ts_log_diff)**2))\n"
   ]
  },
  {
   "cell_type": "markdown",
   "metadata": {},
   "source": [
    "# Model Validaton \n",
    "\n",
    "###### Measure the variance between the data and predicted values"
   ]
  },
  {
   "cell_type": "code",
   "execution_count": null,
   "metadata": {
    "collapsed": true
   },
   "outputs": [],
   "source": [
    "print(model_fit.summary())\n",
    "predictions = pd.DataFrame(model_fit.fittedvalues)\n",
    "residuals = pd.DataFrame(model_fit.resid)\n",
    "\n",
    "predictions.plot(color = 'red')\n",
    "plt.title('ARIMA Predictions')\n",
    "residuals.plot(color = 'blue')\n",
    "plt.title('ARIMA Residual Error')\n",
    "plt.show()\n",
    "\n",
    "# Distrubtion of the residual error\n",
    "residuals.plot(kind='kde')\n",
    "plt.title('ARIMA Residual Error')\n",
    "plt.show()\n",
    "print(residuals.describe())\n",
    "\n",
    "# the model validation indicates the model runs good results\n"
   ]
  },
  {
   "cell_type": "markdown",
   "metadata": {},
   "source": [
    "### Take it back to the original scale"
   ]
  },
  {
   "cell_type": "code",
   "execution_count": null,
   "metadata": {
    "collapsed": true
   },
   "outputs": [],
   "source": [
    "ts = combined['Exit']\n",
    "\n",
    "predictions_ARIMA_diff = pd.Series(model_fit.fittedvalues, copy=True)\n",
    "print(predictions_ARIMA_diff.head())\n",
    "\n",
    "# Remove the first order differeencing and take exponent to restore the predicitions back to original scale\n",
    "predictions_ARIMA_diff_cumsum = predictions_ARIMA_diff.cumsum()\n",
    "predictions_ARIMA_log = pd.Series(ts_log.ix[0], index=ts_log.index)\n",
    "predictions_ARIMA_log = predictions_ARIMA_log.add(predictions_ARIMA_diff_cumsum,fill_value=0)\n",
    "predictions_ARIMA_log.head()\n",
    "\n",
    "predictions_ARIMA = np.exp(predictions_ARIMA_log)\n",
    "plt.plot(ts)\n",
    "plt.plot(predictions_ARIMA)\n",
    "plt.title('RMSE: %.4f'% np.sqrt(sum((predictions_ARIMA - ts)**2)/len(ts)))\n",
    "\n",
    "predict = predictions_ARIMA['2013-09-06 20:22:00'] - predictions_ARIMA['2013-09-06 16:22:00']\n",
    "real = combined.loc['2013-09-06 20:22:00','Exit'] - combined.loc['2013-09-06 16:22:00','Exit']\n",
    "\n",
    "print('The exit count for R195 during the 16:00-20:00 interval on Friday September 6, 2013')\n",
    "print('Predicted value：',  predict)\n",
    "print('Real value：', real)\n"
   ]
  },
  {
   "cell_type": "code",
   "execution_count": 2,
   "metadata": {},
   "outputs": [
    {
     "data": {
      "text/plain": [
       "'C:\\\\WINDOWS\\\\system32'"
      ]
     },
     "execution_count": 2,
     "metadata": {},
     "output_type": "execute_result"
    }
   ],
   "source": [
    "%pwd"
   ]
  },
  {
   "cell_type": "code",
   "execution_count": null,
   "metadata": {
    "collapsed": true
   },
   "outputs": [],
   "source": []
  }
 ],
 "metadata": {
  "kernelspec": {
   "display_name": "Python 3",
   "language": "python",
   "name": "python3"
  },
  "language_info": {
   "codemirror_mode": {
    "name": "ipython",
    "version": 3
   },
   "file_extension": ".py",
   "mimetype": "text/x-python",
   "name": "python",
   "nbconvert_exporter": "python",
   "pygments_lexer": "ipython3",
   "version": "3.6.1"
  }
 },
 "nbformat": 4,
 "nbformat_minor": 2
}
